{
 "cells": [
  {
   "cell_type": "code",
   "execution_count": 1,
   "metadata": {},
   "outputs": [],
   "source": [
    "# Specify values for spike time generation in this cell, the rest is automatic.\n",
    "# See last cell for how to load the generated file elsewhere.\n",
    "\n",
    "nNeurons = 1\n",
    "rate = 12 # Hz\n",
    "simLength = 10000 # ms"
   ]
  },
  {
   "cell_type": "code",
   "execution_count": 2,
   "metadata": {},
   "outputs": [
    {
     "name": "stdout",
     "output_type": "stream",
     "text": [
      "ANNarchy 4.6 (4.6.9.3) on darwin (posix). \n"
     ]
    }
   ],
   "source": [
    "import ANNarchy as ann\n",
    "import numpy as np"
   ]
  },
  {
   "cell_type": "code",
   "execution_count": 3,
   "metadata": {},
   "outputs": [
    {
     "name": "stdout",
     "output_type": "stream",
     "text": [
      "Deleted previously compiled network!\n"
     ]
    }
   ],
   "source": [
    "# Clears previous ANNarchy nets\n",
    "\n",
    "ann.clear()\n",
    "\n",
    "try:\n",
    "    import shutil\n",
    "    shutil.rmtree(\"./annarchy\")\n",
    "    print(\"Deleted previously compiled network!\")\n",
    "except:\n",
    "    print(\"No previously compiled network to delete!\")"
   ]
  },
  {
   "cell_type": "code",
   "execution_count": 4,
   "metadata": {},
   "outputs": [
    {
     "name": "stdout",
     "output_type": "stream",
     "text": [
      "Compiling... \n",
      "OK \n"
     ]
    }
   ],
   "source": [
    "# Define a PoissonPopulation to generate spikes\n",
    "spikeGen = ann.PoissonPopulation(nNeurons, rates=rate)\n",
    "m = ann.Monitor(spikeGen, \"spike\")\n",
    "\n",
    "# Compile and simulate\n",
    "ann.compile()\n",
    "ann.simulate(simLength)\n",
    "\n",
    "# Read the recorded spikes\n",
    "spikes = m.get(\"spike\")\n",
    "\n",
    "# Convert from dictionary to list\n",
    "spikes_list = list(spikes.values())"
   ]
  },
  {
   "cell_type": "code",
   "execution_count": 5,
   "metadata": {},
   "outputs": [],
   "source": [
    "# Save the list to a .txt file\n",
    "\n",
    "import pickle\n",
    "\n",
    "filename = \"inputs/poisson_\"+str(nNeurons)+\"_n_\"+str(int(rate))+\"_Hz_\"+str(simLength)+\"_ms.txt\"\n",
    "\n",
    "with open(filename, 'wb') as fp:\n",
    "    pickle.dump(spikes_list, fp)"
   ]
  },
  {
   "cell_type": "code",
   "execution_count": 6,
   "metadata": {},
   "outputs": [
    {
     "data": {
      "image/png": "[encoded data removed]",
      "text/plain": [
       "<Figure size 720x216 with 1 Axes>"
      ]
     },
     "metadata": {
      "needs_background": "light"
     },
     "output_type": "display_data"
    }
   ],
   "source": [
    "# Verify what was generated\n",
    "\n",
    "from matplotlib import pyplot\n",
    "\n",
    "spike_times, spike_senders = m.raster_plot(spikes)\n",
    "\n",
    "pyplot.close(\"all\")\n",
    "mean_rate = m.mean_fr(spikes)\n",
    "f1 = pyplot.figure(figsize=(10, 3))\n",
    "pyplot.plot(spike_times, spike_senders, \".\")\n",
    "pyplot.xlabel(\"Time (ms)\")\n",
    "pyplot.title(\"%g Hz mean firing rate\" % mean_rate)\n",
    "pyplot.show()"
   ]
  },
  {
   "cell_type": "code",
   "execution_count": 7,
   "metadata": {},
   "outputs": [
    {
     "ename": "FileNotFoundError",
     "evalue": "[Errno 2] No such file or directory: 'poisson_1_n_12_Hz_10000_ms.txt'",
     "output_type": "error",
     "traceback": [
      "\u001b[0;31m---------------------------------------------------------------------------\u001b[0m",
      "\u001b[0;31mFileNotFoundError\u001b[0m                         Traceback (most recent call last)",
      "\u001b[0;32m<ipython-input-7-b40c75623e31>\u001b[0m in \u001b[0;36m<module>\u001b[0;34m\u001b[0m\n\u001b[1;32m      4\u001b[0m \u001b[0mfilename\u001b[0m \u001b[0;34m=\u001b[0m \u001b[0;34m\"poisson_\"\u001b[0m\u001b[0;34m+\u001b[0m\u001b[0mstr\u001b[0m\u001b[0;34m(\u001b[0m\u001b[0mnNeurons\u001b[0m\u001b[0;34m)\u001b[0m\u001b[0;34m+\u001b[0m\u001b[0;34m\"_n_\"\u001b[0m\u001b[0;34m+\u001b[0m\u001b[0mstr\u001b[0m\u001b[0;34m(\u001b[0m\u001b[0mint\u001b[0m\u001b[0;34m(\u001b[0m\u001b[0mrate\u001b[0m\u001b[0;34m)\u001b[0m\u001b[0;34m)\u001b[0m\u001b[0;34m+\u001b[0m\u001b[0;34m\"_Hz_\"\u001b[0m\u001b[0;34m+\u001b[0m\u001b[0mstr\u001b[0m\u001b[0;34m(\u001b[0m\u001b[0msimLength\u001b[0m\u001b[0;34m)\u001b[0m\u001b[0;34m+\u001b[0m\u001b[0;34m\"_ms.txt\"\u001b[0m\u001b[0;34m\u001b[0m\u001b[0;34m\u001b[0m\u001b[0m\n\u001b[1;32m      5\u001b[0m \u001b[0;34m\u001b[0m\u001b[0m\n\u001b[0;32m----> 6\u001b[0;31m \u001b[0;32mwith\u001b[0m \u001b[0mopen\u001b[0m \u001b[0;34m(\u001b[0m\u001b[0mfilename\u001b[0m\u001b[0;34m,\u001b[0m \u001b[0;34m'rb'\u001b[0m\u001b[0;34m)\u001b[0m \u001b[0;32mas\u001b[0m \u001b[0mfp\u001b[0m\u001b[0;34m:\u001b[0m\u001b[0;34m\u001b[0m\u001b[0;34m\u001b[0m\u001b[0m\n\u001b[0m\u001b[1;32m      7\u001b[0m     \u001b[0mspike_times\u001b[0m \u001b[0;34m=\u001b[0m \u001b[0mpickle\u001b[0m\u001b[0;34m.\u001b[0m\u001b[0mload\u001b[0m\u001b[0;34m(\u001b[0m\u001b[0mfp\u001b[0m\u001b[0;34m)\u001b[0m\u001b[0;34m\u001b[0m\u001b[0;34m\u001b[0m\u001b[0m\n",
      "\u001b[0;31mFileNotFoundError\u001b[0m: [Errno 2] No such file or directory: 'poisson_1_n_12_Hz_10000_ms.txt'"
     ]
    }
   ],
   "source": [
    "# Use this code to load the list elsewhere\n",
    "import pickle\n",
    "\n",
    "filename = \"poisson_\"+str(nNeurons)+\"_n_\"+str(int(rate))+\"_Hz_\"+str(simLength)+\"_ms.txt\"\n",
    "\n",
    "with open (filename, 'rb') as fp:\n",
    "    spike_times = pickle.load(fp)"
   ]
  }
 ],
 "metadata": {
  "kernelspec": {
   "display_name": "Python 3",
   "language": "python",
   "name": "python3"
  },
  "language_info": {
   "codemirror_mode": {
    "name": "ipython",
    "version": 3
   },
   "file_extension": ".py",
   "mimetype": "text/x-python",
   "name": "python",
   "nbconvert_exporter": "python",
   "pygments_lexer": "ipython3",
   "version": "3.7.9"
  }
 },
 "nbformat": 4,
 "nbformat_minor": 4
}
