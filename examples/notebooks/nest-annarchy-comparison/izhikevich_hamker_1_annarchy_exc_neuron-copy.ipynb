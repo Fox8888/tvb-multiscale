{
 "cells": [
  {
   "cell_type": "code",
   "execution_count": 1,
   "metadata": {},
   "outputs": [
    {
     "name": "stdout",
     "output_type": "stream",
     "text": [
      "ANNarchy 4.6 (4.6.9.3) on darwin (posix). \n"
     ]
    }
   ],
   "source": [
    "import ANNarchy as ann\n",
    "import numpy as np\n",
    "ann.clear()"
   ]
  },
  {
   "cell_type": "code",
   "execution_count": 2,
   "metadata": {},
   "outputs": [],
   "source": [
    "Izhikevich_Hamker = ann.Neuron(\n",
    "parameters=\"\"\"\n",
    "    a = 0.02\n",
    "    b = 0.2\n",
    "    c = -72.0\n",
    "    d = 6.0\n",
    "    n0 = 140.\n",
    "    n1 = 5.0\n",
    "    n2 = 0.04\n",
    "    I = 0.0\n",
    "    tau_refrac = 10.0\n",
    "    tau_ampa = 10.0\n",
    "    tau_gaba = 10.0\n",
    "    E_ampa = 0.0\n",
    "    E_gaba = -90.0\n",
    "    tau_syn = 1.0\n",
    "    C = 1.0\n",
    "    v_th = 30.0\n",
    "\"\"\",\n",
    "equations=\"\"\"\n",
    "    I_syn_ex = - g_ampa*(v-E_ampa)\n",
    "    I_syn_in = - g_gaba*(v-E_gaba)\n",
    "    I_syn = I_syn_ex + I_syn_in - g_base*v\n",
    "    dg_base/dt = -g_base/tau_syn : init = 0\n",
    "    dg_ampa/dt = -g_ampa/tau_ampa : init = 0\n",
    "    dg_gaba/dt = -g_gaba/tau_gaba : init = 0\n",
    "    dv/dt = n2*v*v+n1*v+n0 - u/C  + I + I_syn : init = -70.\n",
    "    du/dt = a*(b*(v)-u) : init = -18.55\n",
    "\"\"\",\n",
    "spike = \"\"\"\n",
    "    v>=v_th\n",
    "\"\"\",\n",
    "reset = \"\"\"\n",
    "    v = c\n",
    "    u = u+d\n",
    "\"\"\",\n",
    "refractory = \"\"\"tau_refrac\"\"\"\n",
    ")"
   ]
  },
  {
   "cell_type": "code",
   "execution_count": 3,
   "metadata": {},
   "outputs": [
    {
     "name": "stdout",
     "output_type": "stream",
     "text": [
      "Deleted previously compiled network!\n"
     ]
    }
   ],
   "source": [
    "try:\n",
    "    import shutil\n",
    "    shutil.rmtree(\"./annarchy\")\n",
    "    print(\"Deleted previously compiled network!\")\n",
    "except:\n",
    "    print(\"No previously compiled network to delete!\")"
   ]
  },
  {
   "cell_type": "code",
   "execution_count": 4,
   "metadata": {},
   "outputs": [],
   "source": [
    "nNeurons = 1000\n",
    "rate = 12 # Hz\n",
    "simLength = 10000 # ms\n",
    "\n",
    "import pickle\n",
    "\n",
    "filename = \"poisson_\"+str(nNeurons)+\"_n_\"+str(int(rate))+\"_Hz_\"+str(simLength)+\"_ms.txt\"\n",
    "\n",
    "with open (filename, 'rb') as fp:\n",
    "    spike_times = pickle.load(fp)\n"
   ]
  },
  {
   "cell_type": "code",
   "execution_count": 5,
   "metadata": {},
   "outputs": [
    {
     "data": {
      "text/plain": [
       "<ANNarchy.core.Projection.Projection at 0x7fd8e6daef10>"
      ]
     },
     "execution_count": 5,
     "metadata": {},
     "output_type": "execute_result"
    }
   ],
   "source": [
    "\n",
    "stimE1 = ann.SpikeSourceArray(spike_times=spike_times)\n",
    "\n",
    "exc1 = ann.Population(nNeurons, neuron=Izhikevich_Hamker)\n",
    "proj = ann.Projection(pre=stimE1, post=exc1, target=\"ampa\")\n",
    "proj.connect_one_to_one(weights=1.0)"
   ]
  },
  {
   "cell_type": "code",
   "execution_count": 6,
   "metadata": {},
   "outputs": [],
   "source": [
    "# this is for checking the number of neurons in the generated spike source array\n",
    "#ann.Global._network[0][\"populations\"][1].geometry"
   ]
  },
  {
   "cell_type": "code",
   "execution_count": 7,
   "metadata": {},
   "outputs": [],
   "source": [
    "record_from = [\"v\", \"u\", \"I_syn\", \"I_syn_ex\", \"I_syn_in\", \"g_base\", \"g_ampa\", \"g_gaba\"]\n",
    "n_vars = len(record_from)\n",
    "exc1_m = ann.Monitor(exc1, record_from, period=1.0) \n",
    "exc1_spikes_rec = ann.Monitor(exc1, \"spike\")\n",
    "inp_spikes_rec = ann.Monitor(stimE1, \"spike\")"
   ]
  },
  {
   "cell_type": "code",
   "execution_count": null,
   "metadata": {},
   "outputs": [],
   "source": []
  },
  {
   "cell_type": "code",
   "execution_count": null,
   "metadata": {},
   "outputs": [],
   "source": [
    "#ann.compile(\"-march=native -O2 --clean\")\n",
    "ann.compile()"
   ]
  },
  {
   "cell_type": "code",
   "execution_count": null,
   "metadata": {},
   "outputs": [],
   "source": [
    "simulation_time = 10000.0 # ms\n",
    "ann.simulate(simulation_time)"
   ]
  },
  {
   "cell_type": "code",
   "execution_count": null,
   "metadata": {},
   "outputs": [],
   "source": [
    "ts = exc1_m.times()\n",
    "exc1_ts = exc1_m.get()\n",
    "spikes = exc1_spikes_rec.get(\"spike\")\n",
    "spike_times, spike_senders = exc1_spikes_rec.raster_plot(spikes)\n",
    "\n",
    "spike_times2, spike_senders2 = inp_spikes_rec.raster_plot(spikes)"
   ]
  },
  {
   "cell_type": "code",
   "execution_count": null,
   "metadata": {},
   "outputs": [],
   "source": [
    "from matplotlib import pyplot\n",
    "pyplot.close(\"all\")\n",
    "rate = len(spike_times) / simulation_time * 1000\n",
    "f1 = pyplot.figure(figsize=(10, 2.5))\n",
    "pyplot.plot(spike_times, spike_senders, \".\")\n",
    "pyplot.xlabel(\"Time (ms)\")\n",
    "pyplot.title(\"%g (Hz)\" % rate)\n",
    "pyplot.show()\n",
    "\n",
    "\n",
    "f3 = pyplot.figure(figsize=(10, 2.5))\n",
    "pyplot.plot(spike_times2, spike_senders2, \".\")\n",
    "pyplot.xlabel(\"Time (ms)\")\n",
    "pyplot.title(\"%g (Hz)\" % rate)\n",
    "pyplot.show()\n",
    "\n",
    "\n",
    "f2, axes = pyplot.subplots(n_vars, 1, sharex=True, figsize=(10, 10))\n",
    "for i_var, var in enumerate(record_from):\n",
    "    varts = exc1_ts[var]\n",
    "    axes[i_var].plot(np.arange(ts[var][\"start\"][0], len(varts)*exc1_m.period, exc1_m.period), varts)\n",
    "    axes[i_var].set_title(var)\n",
    "axes[-1].set_xlabel(\"Time (ms)\")\n",
    "pyplot.show()"
   ]
  },
  {
   "cell_type": "code",
   "execution_count": null,
   "metadata": {},
   "outputs": [],
   "source": [
    "params = {}\n",
    "for attr in exc1.attributes:\n",
    "    params[attr] = getattr(exc1, attr)\n",
    "print (params)"
   ]
  },
  {
   "cell_type": "code",
   "execution_count": null,
   "metadata": {},
   "outputs": [],
   "source": []
  }
 ],
 "metadata": {
  "kernelspec": {
   "display_name": "Python 3",
   "language": "python",
   "name": "python3"
  },
  "language_info": {
   "codemirror_mode": {
    "name": "ipython",
    "version": 3
   },
   "file_extension": ".py",
   "mimetype": "text/x-python",
   "name": "python",
   "nbconvert_exporter": "python",
   "pygments_lexer": "ipython3",
   "version": "3.7.9"
  }
 },
 "nbformat": 4,
 "nbformat_minor": 2
}
