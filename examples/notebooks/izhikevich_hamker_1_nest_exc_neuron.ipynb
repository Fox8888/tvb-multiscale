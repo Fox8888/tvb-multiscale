{
 "cells": [
  {
   "cell_type": "code",
   "execution_count": 1,
   "metadata": {},
   "outputs": [],
   "source": [
    "from tvb_multiscale.tvb_nest.nest_models.builders.nest_factory import load_nest, compile_modules"
   ]
  },
  {
   "cell_type": "code",
   "execution_count": 2,
   "metadata": {},
   "outputs": [],
   "source": [
    "# compile_modules(\"izhikevich_hamker\")"
   ]
  },
  {
   "cell_type": "code",
   "execution_count": 3,
   "metadata": {},
   "outputs": [
    {
     "name": "stdout",
     "output_type": "stream",
     "text": [
      "2020-11-20 15:16:17,246 - INFO - tvb_multiscale.tvb_nest.nest_models.builders.nest_factory - Loading a NEST instance...\n",
      "2020-11-20 15:16:17,246 - INFO - tvb_multiscale.tvb_nest.nest_models.builders.nest_factory - Loading a NEST instance...\n",
      "2020-11-20 15:16:17,249 - INFO - tvb_multiscale.tvb_nest.nest_models.builders.nest_factory - NEST_INSTALL_DIR: /Users/andre/opt/anaconda3/envs/dbs-env\n",
      "2020-11-20 15:16:17,249 - INFO - tvb_multiscale.tvb_nest.nest_models.builders.nest_factory - NEST_INSTALL_DIR: /Users/andre/opt/anaconda3/envs/dbs-env\n",
      "2020-11-20 15:16:17,251 - INFO - tvb_multiscale.tvb_nest.nest_models.builders.nest_factory - NEST_DATA_DIR: /Users/andre/opt/anaconda3/envs/dbs-env/share/nest\n",
      "2020-11-20 15:16:17,251 - INFO - tvb_multiscale.tvb_nest.nest_models.builders.nest_factory - NEST_DATA_DIR: /Users/andre/opt/anaconda3/envs/dbs-env/share/nest\n",
      "2020-11-20 15:16:17,254 - INFO - tvb_multiscale.tvb_nest.nest_models.builders.nest_factory - NEST_DOC_DIR: /Users/andre/opt/anaconda3/envs/dbs-env/share/doc/nest\n",
      "2020-11-20 15:16:17,254 - INFO - tvb_multiscale.tvb_nest.nest_models.builders.nest_factory - NEST_DOC_DIR: /Users/andre/opt/anaconda3/envs/dbs-env/share/doc/nest\n",
      "2020-11-20 15:16:17,257 - INFO - tvb_multiscale.tvb_nest.nest_models.builders.nest_factory - NEST_MODULE_PATH: /Users/andre/opt/anaconda3/envs/dbs-env/lib/nest\n",
      "2020-11-20 15:16:17,257 - INFO - tvb_multiscale.tvb_nest.nest_models.builders.nest_factory - NEST_MODULE_PATH: /Users/andre/opt/anaconda3/envs/dbs-env/lib/nest\n",
      "2020-11-20 15:16:17,260 - INFO - tvb_multiscale.tvb_nest.nest_models.builders.nest_factory - PATH: /Users/andre/opt/anaconda3/envs/dbs-env/bin:/Users/andre/opt/anaconda3/envs/dbs-env/bin:/Users/andre/opt/anaconda3/condabin:/Users/andre/Library/Python/3.7/bin:/usr/local/opt/python/libexec/bin:/usr/local/bin:/usr/bin:/bin:/usr/sbin:/sbin:/Library/Apple/usr/bin\n",
      "2020-11-20 15:16:17,260 - INFO - tvb_multiscale.tvb_nest.nest_models.builders.nest_factory - PATH: /Users/andre/opt/anaconda3/envs/dbs-env/bin:/Users/andre/opt/anaconda3/envs/dbs-env/bin:/Users/andre/opt/anaconda3/condabin:/Users/andre/Library/Python/3.7/bin:/usr/local/opt/python/libexec/bin:/usr/local/bin:/usr/bin:/bin:/usr/sbin:/sbin:/Library/Apple/usr/bin\n",
      "2020-11-20 15:16:17,263 - INFO - tvb_multiscale.tvb_nest.nest_models.builders.nest_factory - LD_LIBRARY_PATH: /Users/andre/opt/anaconda3/envs/dbs-env/lib/nest\n",
      "2020-11-20 15:16:17,263 - INFO - tvb_multiscale.tvb_nest.nest_models.builders.nest_factory - LD_LIBRARY_PATH: /Users/andre/opt/anaconda3/envs/dbs-env/lib/nest\n",
      "2020-11-20 15:16:17,265 - INFO - tvb_multiscale.tvb_nest.nest_models.builders.nest_factory - SLI_PATH: /Users/andre/opt/anaconda3/envs/dbs-env/share/nest/sli\n",
      "2020-11-20 15:16:17,265 - INFO - tvb_multiscale.tvb_nest.nest_models.builders.nest_factory - SLI_PATH: /Users/andre/opt/anaconda3/envs/dbs-env/share/nest/sli\n",
      "2020-11-20 15:16:17,268 - INFO - tvb_multiscale.tvb_nest.nest_models.builders.nest_factory - NEST_PYTHON_PREFIX: /Users/andre/opt/anaconda3/envs/dbs-env/lib/python3.7/site-packages\n",
      "2020-11-20 15:16:17,268 - INFO - tvb_multiscale.tvb_nest.nest_models.builders.nest_factory - NEST_PYTHON_PREFIX: /Users/andre/opt/anaconda3/envs/dbs-env/lib/python3.7/site-packages\n",
      "2020-11-20 15:16:17,270 - INFO - tvb_multiscale.tvb_nest.nest_models.builders.nest_factory - system path: ['/Users/andre/opt/anaconda3/envs/dbs-env/lib/python3.7/site-packages', '/Users/andre/Desktop/Virtual DBS', '/Users/andre/opt/anaconda3/envs/dbs-env/lib/python37.zip', '/Users/andre/opt/anaconda3/envs/dbs-env/lib/python3.7', '/Users/andre/opt/anaconda3/envs/dbs-env/lib/python3.7/lib-dynload', '', '/Users/andre/.local/lib/python3.7/site-packages', '/Users/andre/.local/lib/python3.7/site-packages/ANNarchy-4.6.9.3-py3.7-macosx-10.9-x86_64.egg', '/Users/andre/opt/anaconda3/envs/dbs-env/lib/python3.7/site-packages', '/Users/andre/opt/anaconda3/envs/dbs-env/lib/python3.7/site-packages/elephant-0.8.0-py3.7.egg', '/Users/andre/opt/anaconda3/envs/dbs-env/lib/python3.7/site-packages/quantities-0.12.4-py3.7.egg', '/Users/andre/opt/anaconda3/envs/dbs-env/lib/python3.7/site-packages/neo-0.8.0-py3.7.egg', '/Users/andre/opt/anaconda3/envs/dbs-env/lib/python3.7/site-packages/ANNarchy-4.6.9.3-py3.7-macosx-10.9-x86_64.egg', '/Users/andre/Desktop/GitHub/tvb-root/scientific_library', '/Users/andre/Desktop/GitHub/tvb-data', '/Users/andre/Desktop/GitHub/tvb-root/framework_tvb', '/Users/andre/opt/anaconda3/envs/dbs-env/lib/python3.7/site-packages/wheel-0.35.1-py3.7.egg', '/Users/andre/Desktop/GitHub/tvb-root/tvb_contrib', '/Users/andre/Desktop/GitHub/tvb-multiscale', '/Users/andre/Desktop/GitHub/tvb-root/tvb_bin', '/Users/andre/opt/anaconda3/envs/dbs-env/lib/python3.7/site-packages/tvb_gdist-2.0.2-py3.7-macosx-10.9-x86_64.egg', '/Users/andre/opt/anaconda3/envs/dbs-env/lib/python3.7/site-packages/matplotlib-3.3.2-py3.7-macosx-10.9-x86_64.egg', '/Users/andre/opt/anaconda3/envs/dbs-env/lib/python3.7/site-packages/Pillow-7.2.0-py3.7-macosx-10.9-x86_64.egg', '/Users/andre/opt/anaconda3/envs/dbs-env/lib/python3.7/site-packages/kiwisolver-1.2.0-py3.7-macosx-10.9-x86_64.egg', '/Users/andre/opt/anaconda3/envs/dbs-env/lib/python3.7/site-packages/cycler-0.10.0-py3.7.egg', '/Users/andre/opt/anaconda3/envs/dbs-env/lib/python3.7/site-packages/scikit_image-0.16.2-py3.7-macosx-10.9-x86_64.egg', '/Users/andre/opt/anaconda3/envs/dbs-env/lib/python3.7/site-packages/mock-4.0.2-py3.7.egg', '/Users/andre/opt/anaconda3/envs/dbs-env/lib/python3.7/site-packages/imageio-2.9.0-py3.7.egg', '/Users/andre/opt/anaconda3/envs/dbs-env/lib/python3.7/site-packages/PyWavelets-1.1.1-py3.7-macosx-10.9-x86_64.egg', '/Users/andre/opt/anaconda3/envs/dbs-env/lib/python3.7/site-packages/tvb_library-2.0.9-py3.7.egg', '/Users/andre/opt/anaconda3/envs/dbs-env/lib/python3.7/site-packages/tvb_data-2.0-py3.7.egg', '/Users/andre/opt/anaconda3/envs/dbs-env/lib/python3.7/site-packages/IPython/extensions', '/Users/andre/.ipython']\n",
      "2020-11-20 15:16:17,270 - INFO - tvb_multiscale.tvb_nest.nest_models.builders.nest_factory - system path: ['/Users/andre/opt/anaconda3/envs/dbs-env/lib/python3.7/site-packages', '/Users/andre/Desktop/Virtual DBS', '/Users/andre/opt/anaconda3/envs/dbs-env/lib/python37.zip', '/Users/andre/opt/anaconda3/envs/dbs-env/lib/python3.7', '/Users/andre/opt/anaconda3/envs/dbs-env/lib/python3.7/lib-dynload', '', '/Users/andre/.local/lib/python3.7/site-packages', '/Users/andre/.local/lib/python3.7/site-packages/ANNarchy-4.6.9.3-py3.7-macosx-10.9-x86_64.egg', '/Users/andre/opt/anaconda3/envs/dbs-env/lib/python3.7/site-packages', '/Users/andre/opt/anaconda3/envs/dbs-env/lib/python3.7/site-packages/elephant-0.8.0-py3.7.egg', '/Users/andre/opt/anaconda3/envs/dbs-env/lib/python3.7/site-packages/quantities-0.12.4-py3.7.egg', '/Users/andre/opt/anaconda3/envs/dbs-env/lib/python3.7/site-packages/neo-0.8.0-py3.7.egg', '/Users/andre/opt/anaconda3/envs/dbs-env/lib/python3.7/site-packages/ANNarchy-4.6.9.3-py3.7-macosx-10.9-x86_64.egg', '/Users/andre/Desktop/GitHub/tvb-root/scientific_library', '/Users/andre/Desktop/GitHub/tvb-data', '/Users/andre/Desktop/GitHub/tvb-root/framework_tvb', '/Users/andre/opt/anaconda3/envs/dbs-env/lib/python3.7/site-packages/wheel-0.35.1-py3.7.egg', '/Users/andre/Desktop/GitHub/tvb-root/tvb_contrib', '/Users/andre/Desktop/GitHub/tvb-multiscale', '/Users/andre/Desktop/GitHub/tvb-root/tvb_bin', '/Users/andre/opt/anaconda3/envs/dbs-env/lib/python3.7/site-packages/tvb_gdist-2.0.2-py3.7-macosx-10.9-x86_64.egg', '/Users/andre/opt/anaconda3/envs/dbs-env/lib/python3.7/site-packages/matplotlib-3.3.2-py3.7-macosx-10.9-x86_64.egg', '/Users/andre/opt/anaconda3/envs/dbs-env/lib/python3.7/site-packages/Pillow-7.2.0-py3.7-macosx-10.9-x86_64.egg', '/Users/andre/opt/anaconda3/envs/dbs-env/lib/python3.7/site-packages/kiwisolver-1.2.0-py3.7-macosx-10.9-x86_64.egg', '/Users/andre/opt/anaconda3/envs/dbs-env/lib/python3.7/site-packages/cycler-0.10.0-py3.7.egg', '/Users/andre/opt/anaconda3/envs/dbs-env/lib/python3.7/site-packages/scikit_image-0.16.2-py3.7-macosx-10.9-x86_64.egg', '/Users/andre/opt/anaconda3/envs/dbs-env/lib/python3.7/site-packages/mock-4.0.2-py3.7.egg', '/Users/andre/opt/anaconda3/envs/dbs-env/lib/python3.7/site-packages/imageio-2.9.0-py3.7.egg', '/Users/andre/opt/anaconda3/envs/dbs-env/lib/python3.7/site-packages/PyWavelets-1.1.1-py3.7-macosx-10.9-x86_64.egg', '/Users/andre/opt/anaconda3/envs/dbs-env/lib/python3.7/site-packages/tvb_library-2.0.9-py3.7.egg', '/Users/andre/opt/anaconda3/envs/dbs-env/lib/python3.7/site-packages/tvb_data-2.0-py3.7.egg', '/Users/andre/opt/anaconda3/envs/dbs-env/lib/python3.7/site-packages/IPython/extensions', '/Users/andre/.ipython']\n"
     ]
    },
    {
     "ename": "NESTErrors.DynamicModuleManagementError",
     "evalue": "(\"DynamicModuleManagementError in Install: Module 'izhikevich_hamkermodule' could not be opened.\\nThe dynamic loader returned the following error: 'file not found'.\\n\\nPlease check LD_LIBRARY_PATH (OSX: DYLD_LIBRARY_PATH)!\", 'DynamicModuleManagementError', <SLILiteral: Install>, \": Module 'izhikevich_hamkermodule' could not be opened.\\nThe dynamic loader returned the following error: 'file not found'.\\n\\nPlease check LD_LIBRARY_PATH (OSX: DYLD_LIBRARY_PATH)!\")",
     "output_type": "error",
     "traceback": [
      "\u001b[0;31m---------------------------------------------------------------------------\u001b[0m",
      "\u001b[0;31mNESTErrors.DynamicModuleManagementError\u001b[0m   Traceback (most recent call last)",
      "\u001b[0;32m<ipython-input-3-765284bef065>\u001b[0m in \u001b[0;36m<module>\u001b[0;34m\u001b[0m\n\u001b[1;32m      1\u001b[0m \u001b[0mnest\u001b[0m \u001b[0;34m=\u001b[0m \u001b[0mload_nest\u001b[0m\u001b[0;34m(\u001b[0m\u001b[0;34m)\u001b[0m\u001b[0;34m\u001b[0m\u001b[0;34m\u001b[0m\u001b[0m\n\u001b[0;32m----> 2\u001b[0;31m \u001b[0mnest\u001b[0m\u001b[0;34m.\u001b[0m\u001b[0mInstall\u001b[0m\u001b[0;34m(\u001b[0m\u001b[0;34m\"izhikevich_hamkermodule\"\u001b[0m\u001b[0;34m)\u001b[0m\u001b[0;34m\u001b[0m\u001b[0;34m\u001b[0m\u001b[0m\n\u001b[0m",
      "\u001b[0;32m~/opt/anaconda3/envs/dbs-env/lib/python3.7/site-packages/nest/ll_api.py\u001b[0m in \u001b[0;36mstack_checker_func\u001b[0;34m(*args, **kwargs)\u001b[0m\n\u001b[1;32m    244\u001b[0m     \u001b[0;32mdef\u001b[0m \u001b[0mstack_checker_func\u001b[0m\u001b[0;34m(\u001b[0m\u001b[0;34m*\u001b[0m\u001b[0margs\u001b[0m\u001b[0;34m,\u001b[0m \u001b[0;34m**\u001b[0m\u001b[0mkwargs\u001b[0m\u001b[0;34m)\u001b[0m\u001b[0;34m:\u001b[0m\u001b[0;34m\u001b[0m\u001b[0;34m\u001b[0m\u001b[0m\n\u001b[1;32m    245\u001b[0m         \u001b[0;32mif\u001b[0m \u001b[0;32mnot\u001b[0m \u001b[0mget_debug\u001b[0m\u001b[0;34m(\u001b[0m\u001b[0;34m)\u001b[0m\u001b[0;34m:\u001b[0m\u001b[0;34m\u001b[0m\u001b[0;34m\u001b[0m\u001b[0m\n\u001b[0;32m--> 246\u001b[0;31m             \u001b[0;32mreturn\u001b[0m \u001b[0mf\u001b[0m\u001b[0;34m(\u001b[0m\u001b[0;34m*\u001b[0m\u001b[0margs\u001b[0m\u001b[0;34m,\u001b[0m \u001b[0;34m**\u001b[0m\u001b[0mkwargs\u001b[0m\u001b[0;34m)\u001b[0m\u001b[0;34m\u001b[0m\u001b[0;34m\u001b[0m\u001b[0m\n\u001b[0m\u001b[1;32m    247\u001b[0m         \u001b[0;32melse\u001b[0m\u001b[0;34m:\u001b[0m\u001b[0;34m\u001b[0m\u001b[0;34m\u001b[0m\u001b[0m\n\u001b[1;32m    248\u001b[0m             \u001b[0msr\u001b[0m\u001b[0;34m(\u001b[0m\u001b[0;34m'count'\u001b[0m\u001b[0;34m)\u001b[0m\u001b[0;34m\u001b[0m\u001b[0;34m\u001b[0m\u001b[0m\n",
      "\u001b[0;32m~/opt/anaconda3/envs/dbs-env/lib/python3.7/site-packages/nest/lib/hl_api_simulation.py\u001b[0m in \u001b[0;36mInstall\u001b[0;34m(module_name)\u001b[0m\n\u001b[1;32m    316\u001b[0m     \"\"\"\n\u001b[1;32m    317\u001b[0m \u001b[0;34m\u001b[0m\u001b[0m\n\u001b[0;32m--> 318\u001b[0;31m     \u001b[0;32mreturn\u001b[0m \u001b[0msr\u001b[0m\u001b[0;34m(\u001b[0m\u001b[0;34m\"(%s) Install\"\u001b[0m \u001b[0;34m%\u001b[0m \u001b[0mmodule_name\u001b[0m\u001b[0;34m)\u001b[0m\u001b[0;34m\u001b[0m\u001b[0;34m\u001b[0m\u001b[0m\n\u001b[0m\u001b[1;32m    319\u001b[0m \u001b[0;34m\u001b[0m\u001b[0m\n\u001b[1;32m    320\u001b[0m \u001b[0;34m\u001b[0m\u001b[0m\n",
      "\u001b[0;32m~/opt/anaconda3/envs/dbs-env/lib/python3.7/site-packages/nest/ll_api.py\u001b[0m in \u001b[0;36mcatching_sli_run\u001b[0;34m(cmd)\u001b[0m\n\u001b[1;32m    130\u001b[0m \u001b[0;34m\u001b[0m\u001b[0m\n\u001b[1;32m    131\u001b[0m         \u001b[0mexceptionCls\u001b[0m \u001b[0;34m=\u001b[0m \u001b[0mgetattr\u001b[0m\u001b[0;34m(\u001b[0m\u001b[0mkernel\u001b[0m\u001b[0;34m.\u001b[0m\u001b[0mNESTErrors\u001b[0m\u001b[0;34m,\u001b[0m \u001b[0merrorname\u001b[0m\u001b[0;34m)\u001b[0m\u001b[0;34m\u001b[0m\u001b[0;34m\u001b[0m\u001b[0m\n\u001b[0;32m--> 132\u001b[0;31m         \u001b[0;32mraise\u001b[0m \u001b[0mexceptionCls\u001b[0m\u001b[0;34m(\u001b[0m\u001b[0mcommandname\u001b[0m\u001b[0;34m,\u001b[0m \u001b[0mmessage\u001b[0m\u001b[0;34m)\u001b[0m\u001b[0;34m\u001b[0m\u001b[0;34m\u001b[0m\u001b[0m\n\u001b[0m\u001b[1;32m    133\u001b[0m \u001b[0;34m\u001b[0m\u001b[0m\n\u001b[1;32m    134\u001b[0m \u001b[0msli_run\u001b[0m \u001b[0;34m=\u001b[0m \u001b[0msr\u001b[0m \u001b[0;34m=\u001b[0m \u001b[0mcatching_sli_run\u001b[0m\u001b[0;34m\u001b[0m\u001b[0;34m\u001b[0m\u001b[0m\n",
      "\u001b[0;31mNESTErrors.DynamicModuleManagementError\u001b[0m: (\"DynamicModuleManagementError in Install: Module 'izhikevich_hamkermodule' could not be opened.\\nThe dynamic loader returned the following error: 'file not found'.\\n\\nPlease check LD_LIBRARY_PATH (OSX: DYLD_LIBRARY_PATH)!\", 'DynamicModuleManagementError', <SLILiteral: Install>, \": Module 'izhikevich_hamkermodule' could not be opened.\\nThe dynamic loader returned the following error: 'file not found'.\\n\\nPlease check LD_LIBRARY_PATH (OSX: DYLD_LIBRARY_PATH)!\")"
     ]
    }
   ],
   "source": [
    "nest = load_nest()\n",
    "nest.Install(\"izhikevich_hamkermodule\")"
   ]
  },
  {
   "cell_type": "code",
   "execution_count": null,
   "metadata": {},
   "outputs": [],
   "source": [
    "# nest.Models()"
   ]
  },
  {
   "cell_type": "code",
   "execution_count": null,
   "metadata": {},
   "outputs": [],
   "source": [
    "from copy import deepcopy\n",
    "params_common = {\"E_rev_AMPA\": 0.0, \"E_rev_GABA_A\": -90.0, \"V_th\": 30.0, \"c\": -65.0,\n",
    "                 \"C_m\": 1.0, \"I_e\": 0.0,\n",
    "                 \"t_ref\": 10.0, \"tau_rise\": 1.0, \"tau_rise_AMPA\": 10.0, \"tau_rise_GABA_A\": 10.0,\n",
    "                 \"n0\": 140.0, \"n1\": 5.0, \"n2\": 0.04}\n",
    "paramsI = deepcopy(params_common)\n",
    "paramsI.update({\"a\": 0.005, \"b\": 0.585, \"d\": 4.0})\n",
    "paramsE = deepcopy(params_common)\n",
    "paramsStr = deepcopy(params_common)\n",
    "paramsStr.update({\"V_th\": 40.0, \"C_m\": 50.0,\n",
    "                  \"n0\": 61.65, \"n1\": 2.59, \"n2\": 0.02,\n",
    "                  \"a\": 0.05, \"b\": -20.0, \"c\": -55.0, \"d\": 377.0})"
   ]
  },
  {
   "cell_type": "code",
   "execution_count": null,
   "metadata": {},
   "outputs": [],
   "source": [
    "exc1 = nest.Create(\"izhikevich_hamker\", 1, params=paramsE)"
   ]
  },
  {
   "cell_type": "code",
   "execution_count": null,
   "metadata": {},
   "outputs": [],
   "source": [
    "stimE = nest.Create(\"poisson_generator\", 1, params={\"rate\": 10.0, \"origin\": 0.0, \"start\": 0.1})\n",
    "nest.Connect(stimE, exc1, syn_spec={'weight': -1.0, 'delay': 1.0, \"receptor_type\": 0})"
   ]
  },
  {
   "cell_type": "code",
   "execution_count": null,
   "metadata": {},
   "outputs": [],
   "source": [
    "record_from = [\"V_m\", \"U_m\", \"I_syn\", \"I_syn_ex\", \"I_syn_in\", \"g_L\", \"g_AMPA\", \"g_GABA_A\"]\n",
    "n_vars = len(record_from)\n",
    "exc1_mltr = nest.Create(\"multimeter\", 1, params={\"record_from\": record_from, \"interval\": 1.0})\n",
    "nest.Connect(exc1_mltr, exc1)\n",
    "exc1_spikes_rec = nest.Create(\"spike_recorder\", 1)\n",
    "nest.Connect(exc1, exc1_spikes_rec)"
   ]
  },
  {
   "cell_type": "code",
   "execution_count": null,
   "metadata": {},
   "outputs": [],
   "source": [
    "simulation_time = 10000.0 # ms\n",
    "nest.Prepare()\n",
    "nest.Run(simulation_time)"
   ]
  },
  {
   "cell_type": "code",
   "execution_count": null,
   "metadata": {},
   "outputs": [],
   "source": [
    "from matplotlib import pyplot\n",
    "pyplot.close(\"all\")\n",
    "exc1_spikes = nest.GetStatus(exc1_spikes_rec)[0][\"events\"]\n",
    "rate = len(exc1_spikes[\"times\"]) / simulation_time * 1000\n",
    "f1 = pyplot.figure(figsize=(10, 2.5))\n",
    "pyplot.plot(exc1_spikes[\"times\"], exc1_spikes[\"senders\"], \".\")\n",
    "pyplot.xlabel(\"Time (ms)\")\n",
    "pyplot.title(\"%g (Hz)\" % rate)\n",
    "pyplot.show()\n",
    "exc1_ts = nest.GetStatus(exc1_mltr)[0][\"events\"]\n",
    "f2, axes = pyplot.subplots(n_vars, 1, sharex=True, figsize=(10, 10))\n",
    "for i_var, var in enumerate(record_from):\n",
    "    varts = exc1_ts[var]\n",
    "    ts = exc1_ts[\"times\"]\n",
    "    axes[i_var].plot(ts, varts)\n",
    "    axes[i_var].set_title(var)\n",
    "axes[-1].set_xlabel(\"Time (ms)\")\n",
    "pyplot.show()"
   ]
  },
  {
   "cell_type": "code",
   "execution_count": null,
   "metadata": {},
   "outputs": [],
   "source": [
    "exc1_ts[\"V_m\"].max()"
   ]
  },
  {
   "cell_type": "code",
   "execution_count": null,
   "metadata": {},
   "outputs": [],
   "source": [
    "nest.GetDefaults(\"izhikevich_hamker\")"
   ]
  },
  {
   "cell_type": "code",
   "execution_count": null,
   "metadata": {},
   "outputs": [],
   "source": []
  }
 ],
 "metadata": {
  "kernelspec": {
   "display_name": "Python 3",
   "language": "python",
   "name": "python3"
  },
  "language_info": {
   "codemirror_mode": {
    "name": "ipython",
    "version": 3
   },
   "file_extension": ".py",
   "mimetype": "text/x-python",
   "name": "python",
   "nbconvert_exporter": "python",
   "pygments_lexer": "ipython3",
   "version": "3.7.9"
  }
 },
 "nbformat": 4,
 "nbformat_minor": 2
}
